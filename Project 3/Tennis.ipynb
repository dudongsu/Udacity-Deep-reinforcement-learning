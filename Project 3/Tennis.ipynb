{
 "cells": [
  {
   "cell_type": "markdown",
   "metadata": {},
   "source": [
    "# Collaboration and Competition\n",
    "\n",
    "---\n",
    "\n",
    "You are welcome to use this coding environment to train your agent for the project.  Follow the instructions below to get started!\n",
    "\n",
    "### 1. Start the Environment\n",
    "\n",
    "Run the next code cell to install a few packages.  This line will take a few minutes to run!"
   ]
  },
  {
   "cell_type": "code",
   "execution_count": 1,
   "metadata": {},
   "outputs": [
    {
     "name": "stdout",
     "output_type": "stream",
     "text": [
      "\u001b[31mtensorflow 1.7.1 has requirement numpy>=1.13.3, but you'll have numpy 1.12.1 which is incompatible.\u001b[0m\r\n",
      "\u001b[31mipython 6.5.0 has requirement prompt-toolkit<2.0.0,>=1.0.15, but you'll have prompt-toolkit 2.0.10 which is incompatible.\u001b[0m\r\n"
     ]
    }
   ],
   "source": [
    "!pip -q install ./python"
   ]
  },
  {
   "cell_type": "markdown",
   "metadata": {},
   "source": [
    "The environment is already saved in the Workspace and can be accessed at the file path provided below. "
   ]
  },
  {
   "cell_type": "code",
   "execution_count": 2,
   "metadata": {},
   "outputs": [
    {
     "name": "stderr",
     "output_type": "stream",
     "text": [
      "INFO:unityagents:\n",
      "'Academy' started successfully!\n",
      "Unity Academy name: Academy\n",
      "        Number of Brains: 1\n",
      "        Number of External Brains : 1\n",
      "        Lesson number : 0\n",
      "        Reset Parameters :\n",
      "\t\t\n",
      "Unity brain name: TennisBrain\n",
      "        Number of Visual Observations (per agent): 0\n",
      "        Vector Observation space type: continuous\n",
      "        Vector Observation space size (per agent): 8\n",
      "        Number of stacked Vector Observation: 3\n",
      "        Vector Action space type: continuous\n",
      "        Vector Action space size (per agent): 2\n",
      "        Vector Action descriptions: , \n"
     ]
    }
   ],
   "source": [
    "from unityagents import UnityEnvironment\n",
    "import numpy as np\n",
    "\n",
    "env = UnityEnvironment(file_name=\"/data/Tennis_Linux_NoVis/Tennis\")"
   ]
  },
  {
   "cell_type": "markdown",
   "metadata": {},
   "source": [
    "Environments contain **_brains_** which are responsible for deciding the actions of their associated agents. Here we check for the first brain available, and set it as the default brain we will be controlling from Python."
   ]
  },
  {
   "cell_type": "code",
   "execution_count": 3,
   "metadata": {},
   "outputs": [],
   "source": [
    "# get the default brain\n",
    "brain_name = env.brain_names[0]\n",
    "brain = env.brains[brain_name]"
   ]
  },
  {
   "cell_type": "markdown",
   "metadata": {},
   "source": [
    "### 2. Examine the State and Action Spaces\n",
    "\n",
    "Run the code cell below to print some information about the environment."
   ]
  },
  {
   "cell_type": "code",
   "execution_count": 4,
   "metadata": {},
   "outputs": [
    {
     "name": "stdout",
     "output_type": "stream",
     "text": [
      "Number of agents: 2\n",
      "Size of each action: 2\n",
      "There are 2 agents. Each observes a state with length: 24\n",
      "The state for the first agent looks like: [ 0.          0.          0.          0.          0.          0.          0.\n",
      "  0.          0.          0.          0.          0.          0.          0.\n",
      "  0.          0.         -6.65278625 -1.5        -0.          0.\n",
      "  6.83172083  6.         -0.          0.        ]\n"
     ]
    }
   ],
   "source": [
    "# reset the environment\n",
    "env_info = env.reset(train_mode=True)[brain_name]\n",
    "\n",
    "# number of agents \n",
    "num_agents = len(env_info.agents)\n",
    "print('Number of agents:', num_agents)\n",
    "\n",
    "# size of each action\n",
    "action_size = brain.vector_action_space_size\n",
    "print('Size of each action:', action_size)\n",
    "\n",
    "# examine the state space \n",
    "states = env_info.vector_observations\n",
    "state_size = states.shape[1]\n",
    "print('There are {} agents. Each observes a state with length: {}'.format(states.shape[0], state_size))\n",
    "print('The state for the first agent looks like:', states[0])"
   ]
  },
  {
   "cell_type": "markdown",
   "metadata": {},
   "source": [
    "### 3. Take Random Actions in the Environment\n",
    "\n",
    "In the next code cell, you will learn how to use the Python API to control the agent and receive feedback from the environment.\n",
    "\n",
    "Note that **in this coding environment, you will not be able to watch the agents while they are training**, and you should set `train_mode=True` to restart the environment."
   ]
  },
  {
   "cell_type": "code",
   "execution_count": 5,
   "metadata": {},
   "outputs": [
    {
     "name": "stdout",
     "output_type": "stream",
     "text": [
      "Total score (averaged over agents) this episode: -0.004999999888241291\n",
      "Total score (averaged over agents) this episode: -0.004999999888241291\n",
      "Total score (averaged over agents) this episode: -0.004999999888241291\n",
      "Total score (averaged over agents) this episode: -0.004999999888241291\n",
      "Total score (averaged over agents) this episode: -0.004999999888241291\n"
     ]
    }
   ],
   "source": [
    "for i in range(5):                                         # play game for 5 episodes\n",
    "    env_info = env.reset(train_mode=False)[brain_name]     # reset the environment    \n",
    "    states = env_info.vector_observations                  # get the current state (for each agent)\n",
    "    scores = np.zeros(num_agents)                          # initialize the score (for each agent)\n",
    "    while True:\n",
    "        actions = np.random.randn(num_agents, action_size) # select an action (for each agent)\n",
    "        actions = np.clip(actions, -1, 1)                  # all actions between -1 and 1\n",
    "       # print(actions)\n",
    "        env_info = env.step(actions)[brain_name]           # send all actions to tne environment\n",
    "        next_states = env_info.vector_observations         # get next state (for each agent)\n",
    "        rewards = env_info.rewards                         # get reward (for each agent)\n",
    "     #   print(rewards)\n",
    "        dones = env_info.local_done                        # see if episode finished\n",
    "        scores += env_info.rewards                         # update the score (for each agent)\n",
    "        states = next_states                               # roll over states to next time step\n",
    "        if np.any(dones):                                  # exit loop if episode finished\n",
    "            break\n",
    "    print('Total score (averaged over agents) this episode: {}'.format(np.mean(scores)))"
   ]
  },
  {
   "cell_type": "markdown",
   "metadata": {},
   "source": [
    "When finished, you can close the environment."
   ]
  },
  {
   "cell_type": "code",
   "execution_count": null,
   "metadata": {},
   "outputs": [],
   "source": []
  },
  {
   "cell_type": "markdown",
   "metadata": {},
   "source": [
    "### 4. It's Your Turn!\n",
    "\n",
    "Now it's your turn to train your own agent to solve the environment!  A few **important notes**:\n",
    "- When training the environment, set `train_mode=True`, so that the line for resetting the environment looks like the following:\n",
    "```python\n",
    "env_info = env.reset(train_mode=True)[brain_name]\n",
    "```\n",
    "- To structure your work, you're welcome to work directly in this Jupyter notebook, or you might like to start over with a new file!  You can see the list of files in the workspace by clicking on **_Jupyter_** in the top left corner of the notebook.\n",
    "- In this coding environment, you will not be able to watch the agents while they are training.  However, **_after training the agents_**, you can download the saved model weights to watch the agents on your own machine! "
   ]
  },
  {
   "cell_type": "markdown",
   "metadata": {},
   "source": [
    "### 5. Copyright\n",
    "\n",
    "The project is based on the Github program for \n",
    "\n",
    "https://github.com/udacity/deep-reinforcement-learning/tree/master/ddpg-bipedal\n"
   ]
  },
  {
   "cell_type": "code",
   "execution_count": 5,
   "metadata": {},
   "outputs": [],
   "source": [
    "%load_ext autoreload\n",
    "%autoreload 2\n",
    "import time\n",
    "import importlib\n",
    "import maddpg_agent\n",
    "from maddpg_agent import Agent\n",
    "import numpy as np\n",
    "import torch\n",
    "import random\n",
    "from collections import namedtuple, deque\n",
    "from torch.autograd import Variable \n",
    "import matplotlib.pyplot as plt"
   ]
  },
  {
   "cell_type": "code",
   "execution_count": 6,
   "metadata": {},
   "outputs": [],
   "source": [
    "def maddpg(n_episode=2000):\n",
    "    print(\"state_size\",state_size)\n",
    "    print(\"action_size\", action_size)\n",
    "    scores = [];\n",
    "    score_window = deque(maxlen=100);\n",
    "    avg_score_100 = []\n",
    "    best_avg = -np.inf\n",
    "    for i_episode in range(n_episode):\n",
    "        env_info = env.reset(train_mode=True)[brain_name]\n",
    "        states = np.reshape(env_info.vector_observations, (1, num_agents*state_size))\n",
    "        start_time = time.time()\n",
    "        score = np.zeros(num_agents) \n",
    "        agent_1.reset()\n",
    "        agent_2.reset()\n",
    "        while(True):\n",
    "            actions_0 = agent_1.act(states, add_noise=True)\n",
    "            actions_1 = agent_2.act(states, add_noise=True)\n",
    "            actions = np.concatenate((actions_0, actions_1), axis=0).flatten()\n",
    "            env_info = env.step(actions)[brain_name]\n",
    "            next_states = np.reshape(env_info.vector_observations, (1,num_agents*state_size))\n",
    "            dones = env_info.local_done\n",
    "            rewards = env_info.rewards\n",
    "            agent_1.step(states, actions, rewards[0], next_states, dones, 0)\n",
    "            agent_2.step(states, actions, rewards[1], next_states, dones, 1)\n",
    "            states = next_states\n",
    "            score = score+np.max(rewards)\n",
    "            if(np.any(dones)):\n",
    "                break\n",
    "        scores.append(np.max(score))\n",
    "        score_window.append(scores[-1])\n",
    "        avg_score_100.append(np.mean(score_window)) \n",
    "        eclipse_time = time.time()-start_time\n",
    "        if(i_episode%10==0):\n",
    "             print(\"\\rEpisode {} ({} sec) \\t Score: {:.2f} \\t Average last 100 epoch score: {:.2f}\".format(i_episode, round(eclipse_time), np.max(scores[-10:]), avg_score_100[-1], end=\"\"))\n",
    "        if(avg_score_100[-1]>0.5 and scores[-1]>best_avg):\n",
    "            best_avg = scores[-1]\n",
    "            torch.save(agent_1.actor_local.state_dict(), 'agent1_checkpoint_actor.pth')\n",
    "            torch.save(agent_1.critic_local.state_dict(), 'agent1_checkpoint_critic.pth')\n",
    "            torch.save(agent_2.actor_local.state_dict(), 'agent2_checkpoint_actor.pth')\n",
    "            torch.save(agent_2.critic_local.state_dict(), 'agent2_checkpoint_critic.pth')\n",
    "        if(i_episode>=1500 and avg_score_100[-1]>0.8):\n",
    "            break\n",
    "            \n",
    "    return scores, avg_score_100\n",
    "\n"
   ]
  },
  {
   "cell_type": "code",
   "execution_count": 7,
   "metadata": {},
   "outputs": [],
   "source": [
    "agent_1 = Agent(state_size, action_size, random_seed=0)\n",
    "agent_2 = Agent(state_size, action_size, random_seed=0)"
   ]
  },
  {
   "cell_type": "code",
   "execution_count": 8,
   "metadata": {},
   "outputs": [
    {
     "name": "stdout",
     "output_type": "stream",
     "text": [
      "state_size 24\n",
      "action_size 2\n",
      "Episode 0 (0 sec) \t Score: 0.00 \t Average last 100 epoch score: 0.00\n",
      "Episode 10 (0 sec) \t Score: 0.00 \t Average last 100 epoch score: 0.00\n",
      "Episode 20 (0 sec) \t Score: 0.00 \t Average last 100 epoch score: 0.00\n",
      "Episode 30 (0 sec) \t Score: 0.00 \t Average last 100 epoch score: 0.00\n",
      "Episode 40 (0 sec) \t Score: 0.00 \t Average last 100 epoch score: 0.00\n",
      "Episode 50 (1 sec) \t Score: 0.10 \t Average last 100 epoch score: 0.00\n",
      "Episode 60 (0 sec) \t Score: 0.00 \t Average last 100 epoch score: 0.00\n",
      "Episode 70 (0 sec) \t Score: 0.00 \t Average last 100 epoch score: 0.00\n",
      "Episode 80 (0 sec) \t Score: 0.00 \t Average last 100 epoch score: 0.00\n",
      "Episode 90 (0 sec) \t Score: 0.20 \t Average last 100 epoch score: 0.00\n",
      "Episode 100 (0 sec) \t Score: 0.00 \t Average last 100 epoch score: 0.00\n",
      "Episode 110 (0 sec) \t Score: 0.00 \t Average last 100 epoch score: 0.00\n",
      "Episode 120 (0 sec) \t Score: 0.20 \t Average last 100 epoch score: 0.01\n",
      "Episode 130 (0 sec) \t Score: 0.10 \t Average last 100 epoch score: 0.01\n",
      "Episode 140 (0 sec) \t Score: 0.10 \t Average last 100 epoch score: 0.01\n",
      "Episode 150 (0 sec) \t Score: 0.00 \t Average last 100 epoch score: 0.01\n",
      "Episode 160 (1 sec) \t Score: 0.10 \t Average last 100 epoch score: 0.01\n",
      "Episode 170 (0 sec) \t Score: 0.10 \t Average last 100 epoch score: 0.01\n",
      "Episode 180 (0 sec) \t Score: 0.10 \t Average last 100 epoch score: 0.01\n",
      "Episode 190 (0 sec) \t Score: 0.10 \t Average last 100 epoch score: 0.01\n",
      "Episode 200 (0 sec) \t Score: 0.10 \t Average last 100 epoch score: 0.01\n",
      "Episode 210 (1 sec) \t Score: 0.10 \t Average last 100 epoch score: 0.01\n",
      "Episode 220 (1 sec) \t Score: 0.10 \t Average last 100 epoch score: 0.02\n",
      "Episode 230 (0 sec) \t Score: 0.20 \t Average last 100 epoch score: 0.02\n",
      "Episode 240 (1 sec) \t Score: 0.40 \t Average last 100 epoch score: 0.03\n",
      "Episode 250 (0 sec) \t Score: 0.20 \t Average last 100 epoch score: 0.03\n",
      "Episode 260 (2 sec) \t Score: 0.30 \t Average last 100 epoch score: 0.03\n",
      "Episode 270 (0 sec) \t Score: 0.10 \t Average last 100 epoch score: 0.04\n",
      "Episode 280 (0 sec) \t Score: 0.10 \t Average last 100 epoch score: 0.04\n",
      "Episode 290 (0 sec) \t Score: 0.10 \t Average last 100 epoch score: 0.04\n",
      "Episode 300 (0 sec) \t Score: 0.60 \t Average last 100 epoch score: 0.05\n",
      "Episode 310 (0 sec) \t Score: 0.20 \t Average last 100 epoch score: 0.05\n",
      "Episode 320 (0 sec) \t Score: 0.20 \t Average last 100 epoch score: 0.05\n",
      "Episode 330 (0 sec) \t Score: 0.20 \t Average last 100 epoch score: 0.05\n",
      "Episode 340 (1 sec) \t Score: 0.10 \t Average last 100 epoch score: 0.05\n",
      "Episode 350 (1 sec) \t Score: 0.10 \t Average last 100 epoch score: 0.05\n",
      "Episode 360 (0 sec) \t Score: 0.20 \t Average last 100 epoch score: 0.06\n",
      "Episode 370 (1 sec) \t Score: 0.20 \t Average last 100 epoch score: 0.06\n",
      "Episode 380 (1 sec) \t Score: 0.20 \t Average last 100 epoch score: 0.07\n",
      "Episode 390 (0 sec) \t Score: 0.40 \t Average last 100 epoch score: 0.08\n",
      "Episode 400 (0 sec) \t Score: 0.20 \t Average last 100 epoch score: 0.08\n",
      "Episode 410 (2 sec) \t Score: 0.20 \t Average last 100 epoch score: 0.09\n",
      "Episode 420 (0 sec) \t Score: 0.20 \t Average last 100 epoch score: 0.09\n",
      "Episode 430 (1 sec) \t Score: 0.30 \t Average last 100 epoch score: 0.09\n",
      "Episode 440 (1 sec) \t Score: 0.30 \t Average last 100 epoch score: 0.10\n",
      "Episode 450 (1 sec) \t Score: 0.20 \t Average last 100 epoch score: 0.10\n",
      "Episode 460 (1 sec) \t Score: 0.20 \t Average last 100 epoch score: 0.11\n",
      "Episode 470 (1 sec) \t Score: 0.40 \t Average last 100 epoch score: 0.12\n",
      "Episode 480 (1 sec) \t Score: 0.30 \t Average last 100 epoch score: 0.13\n",
      "Episode 490 (3 sec) \t Score: 0.40 \t Average last 100 epoch score: 0.14\n",
      "Episode 500 (2 sec) \t Score: 0.40 \t Average last 100 epoch score: 0.15\n",
      "Episode 510 (2 sec) \t Score: 0.30 \t Average last 100 epoch score: 0.15\n",
      "Episode 520 (1 sec) \t Score: 0.60 \t Average last 100 epoch score: 0.16\n",
      "Episode 530 (2 sec) \t Score: 0.70 \t Average last 100 epoch score: 0.17\n",
      "Episode 540 (2 sec) \t Score: 0.30 \t Average last 100 epoch score: 0.17\n",
      "Episode 550 (1 sec) \t Score: 0.40 \t Average last 100 epoch score: 0.18\n",
      "Episode 560 (1 sec) \t Score: 0.40 \t Average last 100 epoch score: 0.18\n",
      "Episode 570 (2 sec) \t Score: 0.20 \t Average last 100 epoch score: 0.18\n",
      "Episode 580 (1 sec) \t Score: 0.20 \t Average last 100 epoch score: 0.17\n",
      "Episode 590 (3 sec) \t Score: 0.40 \t Average last 100 epoch score: 0.17\n",
      "Episode 600 (2 sec) \t Score: 0.20 \t Average last 100 epoch score: 0.16\n",
      "Episode 610 (3 sec) \t Score: 0.50 \t Average last 100 epoch score: 0.16\n",
      "Episode 620 (2 sec) \t Score: 0.40 \t Average last 100 epoch score: 0.17\n",
      "Episode 630 (1 sec) \t Score: 0.30 \t Average last 100 epoch score: 0.16\n",
      "Episode 640 (1 sec) \t Score: 0.30 \t Average last 100 epoch score: 0.16\n",
      "Episode 650 (1 sec) \t Score: 0.40 \t Average last 100 epoch score: 0.16\n",
      "Episode 660 (2 sec) \t Score: 0.30 \t Average last 100 epoch score: 0.16\n",
      "Episode 670 (1 sec) \t Score: 0.20 \t Average last 100 epoch score: 0.15\n",
      "Episode 680 (2 sec) \t Score: 0.50 \t Average last 100 epoch score: 0.17\n",
      "Episode 690 (2 sec) \t Score: 0.70 \t Average last 100 epoch score: 0.17\n",
      "Episode 700 (3 sec) \t Score: 0.50 \t Average last 100 epoch score: 0.19\n",
      "Episode 710 (1 sec) \t Score: 0.50 \t Average last 100 epoch score: 0.19\n",
      "Episode 720 (2 sec) \t Score: 0.20 \t Average last 100 epoch score: 0.18\n",
      "Episode 730 (1 sec) \t Score: 0.30 \t Average last 100 epoch score: 0.18\n",
      "Episode 740 (1 sec) \t Score: 0.30 \t Average last 100 epoch score: 0.18\n",
      "Episode 750 (1 sec) \t Score: 0.20 \t Average last 100 epoch score: 0.17\n",
      "Episode 760 (1 sec) \t Score: 0.30 \t Average last 100 epoch score: 0.17\n",
      "Episode 770 (1 sec) \t Score: 0.30 \t Average last 100 epoch score: 0.17\n",
      "Episode 780 (1 sec) \t Score: 0.30 \t Average last 100 epoch score: 0.17\n",
      "Episode 790 (1 sec) \t Score: 0.50 \t Average last 100 epoch score: 0.17\n",
      "Episode 800 (0 sec) \t Score: 0.20 \t Average last 100 epoch score: 0.15\n",
      "Episode 810 (1 sec) \t Score: 0.20 \t Average last 100 epoch score: 0.14\n",
      "Episode 820 (1 sec) \t Score: 0.20 \t Average last 100 epoch score: 0.14\n",
      "Episode 830 (2 sec) \t Score: 0.20 \t Average last 100 epoch score: 0.13\n",
      "Episode 840 (2 sec) \t Score: 0.60 \t Average last 100 epoch score: 0.14\n",
      "Episode 850 (1 sec) \t Score: 0.30 \t Average last 100 epoch score: 0.14\n",
      "Episode 860 (2 sec) \t Score: 0.30 \t Average last 100 epoch score: 0.15\n",
      "Episode 870 (2 sec) \t Score: 1.80 \t Average last 100 epoch score: 0.17\n",
      "Episode 880 (1 sec) \t Score: 0.40 \t Average last 100 epoch score: 0.18\n",
      "Episode 890 (1 sec) \t Score: 0.50 \t Average last 100 epoch score: 0.18\n",
      "Episode 900 (2 sec) \t Score: 0.40 \t Average last 100 epoch score: 0.19\n",
      "Episode 910 (7 sec) \t Score: 1.10 \t Average last 100 epoch score: 0.20\n",
      "Episode 920 (1 sec) \t Score: 0.30 \t Average last 100 epoch score: 0.20\n",
      "Episode 930 (2 sec) \t Score: 0.20 \t Average last 100 epoch score: 0.21\n",
      "Episode 940 (2 sec) \t Score: 0.50 \t Average last 100 epoch score: 0.20\n",
      "Episode 950 (1 sec) \t Score: 0.50 \t Average last 100 epoch score: 0.21\n",
      "Episode 960 (3 sec) \t Score: 0.30 \t Average last 100 epoch score: 0.22\n",
      "Episode 970 (1 sec) \t Score: 1.00 \t Average last 100 epoch score: 0.21\n",
      "Episode 980 (1 sec) \t Score: 0.30 \t Average last 100 epoch score: 0.20\n",
      "Episode 990 (2 sec) \t Score: 0.50 \t Average last 100 epoch score: 0.21\n",
      "Episode 1000 (2 sec) \t Score: 0.40 \t Average last 100 epoch score: 0.21\n",
      "Episode 1010 (1 sec) \t Score: 0.60 \t Average last 100 epoch score: 0.21\n",
      "Episode 1020 (2 sec) \t Score: 0.50 \t Average last 100 epoch score: 0.22\n",
      "Episode 1030 (1 sec) \t Score: 0.80 \t Average last 100 epoch score: 0.24\n",
      "Episode 1040 (7 sec) \t Score: 1.20 \t Average last 100 epoch score: 0.26\n",
      "Episode 1050 (2 sec) \t Score: 2.10 \t Average last 100 epoch score: 0.28\n",
      "Episode 1060 (1 sec) \t Score: 0.60 \t Average last 100 epoch score: 0.29\n",
      "Episode 1070 (1 sec) \t Score: 1.50 \t Average last 100 epoch score: 0.30\n",
      "Episode 1080 (2 sec) \t Score: 3.00 \t Average last 100 epoch score: 0.36\n",
      "Episode 1090 (2 sec) \t Score: 0.30 \t Average last 100 epoch score: 0.35\n",
      "Episode 1100 (18 sec) \t Score: 3.10 \t Average last 100 epoch score: 0.38\n",
      "Episode 1110 (2 sec) \t Score: 2.00 \t Average last 100 epoch score: 0.42\n",
      "Episode 1120 (1 sec) \t Score: 0.60 \t Average last 100 epoch score: 0.42\n",
      "Episode 1130 (1 sec) \t Score: 0.30 \t Average last 100 epoch score: 0.40\n",
      "Episode 1140 (1 sec) \t Score: 0.60 \t Average last 100 epoch score: 0.39\n"
     ]
    },
    {
     "name": "stdout",
     "output_type": "stream",
     "text": [
      "Episode 1150 (5 sec) \t Score: 2.00 \t Average last 100 epoch score: 0.40\n",
      "Episode 1160 (2 sec) \t Score: 2.50 \t Average last 100 epoch score: 0.43\n",
      "Episode 1170 (6 sec) \t Score: 1.40 \t Average last 100 epoch score: 0.46\n",
      "Episode 1180 (3 sec) \t Score: 1.20 \t Average last 100 epoch score: 0.43\n",
      "Episode 1190 (1 sec) \t Score: 5.10 \t Average last 100 epoch score: 0.52\n",
      "Episode 1200 (2 sec) \t Score: 1.00 \t Average last 100 epoch score: 0.52\n",
      "Episode 1210 (2 sec) \t Score: 1.00 \t Average last 100 epoch score: 0.49\n",
      "Episode 1220 (2 sec) \t Score: 1.00 \t Average last 100 epoch score: 0.51\n",
      "Episode 1230 (2 sec) \t Score: 0.80 \t Average last 100 epoch score: 0.54\n",
      "Episode 1240 (2 sec) \t Score: 0.80 \t Average last 100 epoch score: 0.55\n",
      "Episode 1250 (4 sec) \t Score: 0.90 \t Average last 100 epoch score: 0.53\n",
      "Episode 1260 (3 sec) \t Score: 1.00 \t Average last 100 epoch score: 0.52\n",
      "Episode 1270 (8 sec) \t Score: 1.80 \t Average last 100 epoch score: 0.51\n",
      "Episode 1280 (6 sec) \t Score: 2.60 \t Average last 100 epoch score: 0.53\n",
      "Episode 1290 (0 sec) \t Score: 5.20 \t Average last 100 epoch score: 0.54\n",
      "Episode 1300 (1 sec) \t Score: 2.60 \t Average last 100 epoch score: 0.56\n",
      "Episode 1310 (1 sec) \t Score: 2.40 \t Average last 100 epoch score: 0.61\n",
      "Episode 1320 (5 sec) \t Score: 1.40 \t Average last 100 epoch score: 0.63\n",
      "Episode 1330 (4 sec) \t Score: 3.60 \t Average last 100 epoch score: 0.67\n",
      "Episode 1340 (5 sec) \t Score: 3.50 \t Average last 100 epoch score: 0.74\n",
      "Episode 1350 (1 sec) \t Score: 3.40 \t Average last 100 epoch score: 0.79\n",
      "Episode 1360 (1 sec) \t Score: 5.20 \t Average last 100 epoch score: 0.96\n",
      "Episode 1370 (1 sec) \t Score: 1.60 \t Average last 100 epoch score: 0.96\n",
      "Episode 1380 (1 sec) \t Score: 5.20 \t Average last 100 epoch score: 0.99\n",
      "Episode 1390 (2 sec) \t Score: 2.10 \t Average last 100 epoch score: 0.94\n",
      "Episode 1400 (2 sec) \t Score: 1.60 \t Average last 100 epoch score: 0.91\n",
      "Episode 1410 (6 sec) \t Score: 1.90 \t Average last 100 epoch score: 0.88\n",
      "Episode 1420 (8 sec) \t Score: 5.20 \t Average last 100 epoch score: 1.08\n",
      "Episode 1430 (6 sec) \t Score: 5.20 \t Average last 100 epoch score: 1.14\n",
      "Episode 1440 (2 sec) \t Score: 1.50 \t Average last 100 epoch score: 1.09\n",
      "Episode 1450 (4 sec) \t Score: 1.30 \t Average last 100 epoch score: 1.04\n",
      "Episode 1460 (3 sec) \t Score: 0.80 \t Average last 100 epoch score: 0.85\n",
      "Episode 1470 (1 sec) \t Score: 5.10 \t Average last 100 epoch score: 0.94\n",
      "Episode 1480 (1 sec) \t Score: 2.20 \t Average last 100 epoch score: 0.92\n",
      "Episode 1490 (9 sec) \t Score: 3.80 \t Average last 100 epoch score: 1.01\n",
      "Episode 1500 (7 sec) \t Score: 1.00 \t Average last 100 epoch score: 0.99\n"
     ]
    },
    {
     "data": {
      "image/png": "[encoded data removed]",
      "text/plain": [
       "<matplotlib.figure.Figure at 0x7fd53d0aecf8>"
      ]
     },
     "metadata": {
      "needs_background": "light"
     },
     "output_type": "display_data"
    }
   ],
   "source": [
    "from workspace_utils import active_session\n",
    "with active_session():\n",
    "    scores, ave_score_100 = maddpg()\n",
    "    fig = plt.figure()\n",
    "    ax = fig.add_subplot(111)\n",
    "    plt.plot(np.arange(1, len(scores)+1), scores, label='scores')\n",
    "    plt.plot(np.arange(1, len(ave_score_100)+1), ave_score_100, c='r', label='average score')\n",
    "    plt.ylabel('Score')\n",
    "    plt.xlabel('Episode #')\n",
    "    plt.legend(loc='upper left');\n",
    "    plt.show()"
   ]
  },
  {
   "cell_type": "code",
   "execution_count": 10,
   "metadata": {},
   "outputs": [
    {
     "data": {
      "image/png": "[encoded data removed]",
      "text/plain": [
       "<matplotlib.figure.Figure at 0x7f71d1916978>"
      ]
     },
     "metadata": {
      "needs_background": "light"
     },
     "output_type": "display_data"
    }
   ],
   "source": [
    "fig = plt.figure()\n",
    "ax = fig.add_subplot(111)\n",
    "plt.plot(np.arange(1, len(scores)+1), scores, label='scores')\n",
    "plt.plot(np.arange(1, len(ave_score_100)+1), ave_score_100, c='r', label='average score')\n",
    "plt.ylabel('Score')\n",
    "plt.xlabel('Episode #')\n",
    "plt.legend(loc='upper left');\n",
    "plt.show()\n",
    "\n"
   ]
  }
 ],
 "metadata": {
  "kernelspec": {
   "display_name": "Python 3",
   "language": "python",
   "name": "python3"
  },
  "language_info": {
   "codemirror_mode": {
    "name": "ipython",
    "version": 3
   },
   "file_extension": ".py",
   "mimetype": "text/x-python",
   "name": "python",
   "nbconvert_exporter": "python",
   "pygments_lexer": "ipython3",
   "version": "3.6.3"
  }
 },
 "nbformat": 4,
 "nbformat_minor": 2
}
