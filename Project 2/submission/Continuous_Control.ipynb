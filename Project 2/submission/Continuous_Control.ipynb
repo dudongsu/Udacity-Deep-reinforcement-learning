{
 "cells": [
  {
   "cell_type": "markdown",
   "metadata": {},
   "source": [
    "# Continuous Control\n",
    "\n",
    "---\n",
    "\n",
    "You are welcome to use this coding environment to train your agent for the project.  Follow the instructions below to get started!\n",
    "\n",
    "### 1. Start the Environment\n",
    "\n",
    "Run the next code cell to install a few packages.  This line will take a few minutes to run!"
   ]
  },
  {
   "cell_type": "code",
   "execution_count": 1,
   "metadata": {},
   "outputs": [
    {
     "name": "stdout",
     "output_type": "stream",
     "text": [
      "\u001b[31mtensorflow 1.7.1 has requirement numpy>=1.13.3, but you'll have numpy 1.12.1 which is incompatible.\u001b[0m\r\n",
      "\u001b[31mipython 6.5.0 has requirement prompt-toolkit<2.0.0,>=1.0.15, but you'll have prompt-toolkit 2.0.10 which is incompatible.\u001b[0m\r\n"
     ]
    }
   ],
   "source": [
    "!pip -q install ./python"
   ]
  },
  {
   "cell_type": "markdown",
   "metadata": {},
   "source": [
    "The environments corresponding to both versions of the environment are already saved in the Workspace and can be accessed at the file paths provided below.  \n",
    "\n",
    "Please select one of the two options below for loading the environment."
   ]
  },
  {
   "cell_type": "code",
   "execution_count": 2,
   "metadata": {},
   "outputs": [
    {
     "name": "stderr",
     "output_type": "stream",
     "text": [
      "INFO:unityagents:\n",
      "'Academy' started successfully!\n",
      "Unity Academy name: Academy\n",
      "        Number of Brains: 1\n",
      "        Number of External Brains : 1\n",
      "        Lesson number : 0\n",
      "        Reset Parameters :\n",
      "\t\tgoal_size -> 5.0\n",
      "\t\tgoal_speed -> 1.0\n",
      "Unity brain name: ReacherBrain\n",
      "        Number of Visual Observations (per agent): 0\n",
      "        Vector Observation space type: continuous\n",
      "        Vector Observation space size (per agent): 33\n",
      "        Number of stacked Vector Observation: 1\n",
      "        Vector Action space type: continuous\n",
      "        Vector Action space size (per agent): 4\n",
      "        Vector Action descriptions: , , , \n"
     ]
    }
   ],
   "source": [
    "from unityagents import UnityEnvironment\n",
    "import numpy as np\n",
    "\n",
    "# select this option to load version 1 (with a single agent) of the environment\n",
    "#env = UnityEnvironment(file_name='/data/Reacher_One_Linux_NoVis/Reacher_One_Linux_NoVis.x86_64')\n",
    "\n",
    "# select this option to load version 2 (with 20 agents) of the environment\n",
    "env = UnityEnvironment(file_name='/data/Reacher_Linux_NoVis/Reacher.x86_64')"
   ]
  },
  {
   "cell_type": "markdown",
   "metadata": {},
   "source": [
    "Environments contain **_brains_** which are responsible for deciding the actions of their associated agents. Here we check for the first brain available, and set it as the default brain we will be controlling from Python."
   ]
  },
  {
   "cell_type": "code",
   "execution_count": 3,
   "metadata": {},
   "outputs": [],
   "source": [
    "# get the default brain\n",
    "brain_name = env.brain_names[0]\n",
    "brain = env.brains[brain_name]"
   ]
  },
  {
   "cell_type": "markdown",
   "metadata": {},
   "source": [
    "### 2. Examine the State and Action Spaces\n",
    "\n",
    "Run the code cell below to print some information about the environment."
   ]
  },
  {
   "cell_type": "code",
   "execution_count": 4,
   "metadata": {},
   "outputs": [
    {
     "name": "stdout",
     "output_type": "stream",
     "text": [
      "Number of agents: 20\n",
      "Size of each action: 4\n",
      "There are 20 agents. Each observes a state with length: 33\n",
      "The state for the first agent looks like: [  0.00000000e+00  -4.00000000e+00   0.00000000e+00   1.00000000e+00\n",
      "  -0.00000000e+00  -0.00000000e+00  -4.37113883e-08   0.00000000e+00\n",
      "   0.00000000e+00   0.00000000e+00   0.00000000e+00   0.00000000e+00\n",
      "   0.00000000e+00   0.00000000e+00  -1.00000000e+01   0.00000000e+00\n",
      "   1.00000000e+00  -0.00000000e+00  -0.00000000e+00  -4.37113883e-08\n",
      "   0.00000000e+00   0.00000000e+00   0.00000000e+00   0.00000000e+00\n",
      "   0.00000000e+00   0.00000000e+00   5.75471878e+00  -1.00000000e+00\n",
      "   5.55726624e+00   0.00000000e+00   1.00000000e+00   0.00000000e+00\n",
      "  -1.68164849e-01]\n"
     ]
    }
   ],
   "source": [
    "# reset the environment\n",
    "env_info = env.reset(train_mode=True)[brain_name]\n",
    "\n",
    "# number of agents\n",
    "num_agents = len(env_info.agents)\n",
    "print('Number of agents:', num_agents)\n",
    "\n",
    "# size of each action\n",
    "action_size = brain.vector_action_space_size\n",
    "print('Size of each action:', action_size)\n",
    "\n",
    "# examine the state space \n",
    "states = env_info.vector_observations\n",
    "state_size = states.shape[1]\n",
    "print('There are {} agents. Each observes a state with length: {}'.format(states.shape[0], state_size))\n",
    "print('The state for the first agent looks like:', states[0])"
   ]
  },
  {
   "cell_type": "markdown",
   "metadata": {},
   "source": [
    "### 3. Take Random Actions in the Environment\n",
    "\n",
    "In the next code cell, you will learn how to use the Python API to control the agent and receive feedback from the environment.\n",
    "\n",
    "Note that **in this coding environment, you will not be able to watch the agents while they are training**, and you should set `train_mode=True` to restart the environment."
   ]
  },
  {
   "cell_type": "code",
   "execution_count": 5,
   "metadata": {},
   "outputs": [
    {
     "name": "stdout",
     "output_type": "stream",
     "text": [
      "Total score (averaged over agents) this episode: 0.06749999849125743\n"
     ]
    }
   ],
   "source": [
    "env_info = env.reset(train_mode=True)[brain_name]      # reset the environment    \n",
    "states = env_info.vector_observations                  # get the current state (for each agent)\n",
    "scores = np.zeros(num_agents)                          # initialize the score (for each agent)\n",
    "while True:\n",
    "    actions = np.random.randn(num_agents, action_size) # select an action (for each agent)\n",
    "    actions = np.clip(actions, -1, 1)                  # all actions between -1 and 1\n",
    "    env_info = env.step(actions)[brain_name]           # send all actions to tne environment\n",
    "    next_states = env_info.vector_observations         # get next state (for each agent)\n",
    "    rewards = env_info.rewards                         # get reward (for each agent)\n",
    "    dones = env_info.local_done                        # see if episode finished\n",
    "    scores += env_info.rewards                         # update the score (for each agent)\n",
    "    states = next_states                               # roll over states to next time step\n",
    "    if np.any(dones):                                  # exit loop if episode finished\n",
    "        break\n",
    "print('Total score (averaged over agents) this episode: {}'.format(np.mean(scores)))"
   ]
  },
  {
   "cell_type": "markdown",
   "metadata": {},
   "source": [
    "When finished, you can close the environment."
   ]
  },
  {
   "cell_type": "markdown",
   "metadata": {},
   "source": [
    "### 4. It's Your Turn!\n",
    "\n",
    "Now it's your turn to train your own agent to solve the environment!  A few **important notes**:\n",
    "- When training the environment, set `train_mode=True`, so that the line for resetting the environment looks like the following:\n",
    "```python\n",
    "env_info = env.reset(train_mode=True)[brain_name]\n",
    "```\n",
    "- To structure your work, you're welcome to work directly in this Jupyter notebook, or you might like to start over with a new file!  You can see the list of files in the workspace by clicking on **_Jupyter_** in the top left corner of the notebook.\n",
    "- In this coding environment, you will not be able to watch the agents while they are training.  However, **_after training the agents_**, you can download the saved model weights to watch the agents on your own machine! "
   ]
  },
  {
   "cell_type": "code",
   "execution_count": 5,
   "metadata": {},
   "outputs": [],
   "source": [
    "%load_ext autoreload\n",
    "%autoreload 2\n",
    "import time\n",
    "import importlib\n",
    "import ddpg_agent\n",
    "from ddpg_agent import Agent\n",
    "agent = Agent(state_size, action_size, random_seed=0)\n",
    "import numpy as np\n",
    "import random\n",
    "import torch\n",
    "from collections import namedtuple, deque\n",
    "from torch.autograd import Variable\n",
    "import matplotlib.pyplot as plt\n",
    "from model import Actor, Critic\n"
   ]
  },
  {
   "cell_type": "code",
   "execution_count": 6,
   "metadata": {},
   "outputs": [],
   "source": [
    "def ddpg(n_episodes = 50, max_t=1000):\n",
    "    scores_window = deque(maxlen=100)\n",
    "    mean_scores = []\n",
    "    max_score = -np.Inf\n",
    "    avg_score_100 = []\n",
    "    for i_episode in range(n_episodes):\n",
    "        env_info = env.reset(train_mode=True)[brain_name]      # reset the environment    \n",
    "        states = env_info.vector_observations                  # get the current state (for each agent)\n",
    "        scores = np.zeros(num_agents)   # initialize the score (for each agent)\n",
    "        start_time = time.time()\n",
    "        for t in range(max_t):\n",
    "            #print(\"t =\",t)\n",
    "            actions = agent.act(states)\n",
    "            \n",
    "            \n",
    "            \n",
    "            env_info = env.step(actions)[brain_name]           # send all actions to tne environment\n",
    "            next_states = env_info.vector_observations         # get next state (for each agent)\n",
    "            rewards = env_info.rewards                         # get reward (for each agent)\n",
    "            #print(\"the rewards are:\", rewards)\n",
    "            dones = env_info.local_done                        # see if episode finished\n",
    "           # print(\"the dones are:\", dones)\n",
    "            scores += env_info.rewards                         # update the score (for each agent)\n",
    "           \n",
    "            for state, action, reward, next_state, done in zip(states, actions, rewards, next_states, dones):\n",
    "                agent.step(state, action, reward, next_state, done, t)\n",
    "            states = next_states\n",
    "            scores += rewards\n",
    "          \n",
    "            \n",
    "          #  if np.any(dones):\n",
    "          #      break\n",
    "        mean_scores.append(np.mean(scores))\n",
    "        scores_window.append(mean_scores[-1])\n",
    "        avg_score_100.append(np.mean(scores_window))    # save moving average\n",
    "        eclapse_time = time.time() - start_time\n",
    "        \n",
    "        if i_episode % 1 ==0:\n",
    "            print(\"\\rEpisode {} ({} sec) \\t Score: {:.2f} \\t Average last 100 epoch score: {:.2f}\".format(i_episode, round(eclapse_time), mean_scores[-1], avg_score_100[-1], end=\"\"))\n",
    "                  \n",
    "        if avg_score_100[-1]>30:\n",
    "          #  print(\"\\nEvviroments solved in {:d} episodes!\\tAverage Score: {:.2f}\".format(i_episode,  avg_score_100[-1]))\n",
    "            torch.save(agent.actor_local.state_dict(), 'checkpoint_actor.pth')\n",
    "            torch.save(agent.critic_local.state_dict(), 'checkpoint_critic.pth')\n",
    "    return mean_scores, avg_score_100\n"
   ]
  },
  {
   "cell_type": "code",
   "execution_count": 7,
   "metadata": {},
   "outputs": [
    {
     "name": "stdout",
     "output_type": "stream",
     "text": [
      "Episode 0 (140 sec) \t Score: 2.61 \t Average last 100 epoch score: 2.61\n",
      "Episode 1 (145 sec) \t Score: 5.31 \t Average last 100 epoch score: 3.96\n",
      "Episode 2 (146 sec) \t Score: 8.91 \t Average last 100 epoch score: 5.61\n",
      "Episode 3 (146 sec) \t Score: 16.39 \t Average last 100 epoch score: 8.31\n",
      "Episode 4 (149 sec) \t Score: 30.15 \t Average last 100 epoch score: 12.67\n",
      "Episode 5 (153 sec) \t Score: 32.68 \t Average last 100 epoch score: 16.01\n",
      "Episode 6 (157 sec) \t Score: 38.46 \t Average last 100 epoch score: 19.22\n",
      "Episode 7 (157 sec) \t Score: 35.89 \t Average last 100 epoch score: 21.30\n",
      "Episode 8 (160 sec) \t Score: 36.60 \t Average last 100 epoch score: 23.00\n",
      "Episode 9 (162 sec) \t Score: 46.66 \t Average last 100 epoch score: 25.37\n",
      "Episode 10 (165 sec) \t Score: 44.65 \t Average last 100 epoch score: 27.12\n",
      "Episode 11 (169 sec) \t Score: 47.42 \t Average last 100 epoch score: 28.81\n",
      "Episode 12 (173 sec) \t Score: 52.93 \t Average last 100 epoch score: 30.67\n",
      "Episode 13 (177 sec) \t Score: 54.28 \t Average last 100 epoch score: 32.35\n",
      "Episode 14 (180 sec) \t Score: 52.37 \t Average last 100 epoch score: 33.69\n",
      "Episode 15 (185 sec) \t Score: 53.90 \t Average last 100 epoch score: 34.95\n",
      "Episode 16 (189 sec) \t Score: 49.75 \t Average last 100 epoch score: 35.82\n",
      "Episode 17 (192 sec) \t Score: 52.69 \t Average last 100 epoch score: 36.76\n",
      "Episode 18 (194 sec) \t Score: 57.23 \t Average last 100 epoch score: 37.84\n",
      "Episode 19 (197 sec) \t Score: 52.76 \t Average last 100 epoch score: 38.58\n",
      "Episode 20 (199 sec) \t Score: 49.11 \t Average last 100 epoch score: 39.08\n",
      "Episode 21 (204 sec) \t Score: 60.92 \t Average last 100 epoch score: 40.08\n",
      "Episode 22 (209 sec) \t Score: 66.05 \t Average last 100 epoch score: 41.21\n",
      "Episode 23 (217 sec) \t Score: 59.95 \t Average last 100 epoch score: 41.99\n",
      "Episode 24 (220 sec) \t Score: 64.73 \t Average last 100 epoch score: 42.90\n",
      "Episode 25 (224 sec) \t Score: 58.25 \t Average last 100 epoch score: 43.49\n",
      "Episode 26 (228 sec) \t Score: 64.06 \t Average last 100 epoch score: 44.25\n",
      "Episode 27 (233 sec) \t Score: 53.32 \t Average last 100 epoch score: 44.57\n",
      "Episode 28 (238 sec) \t Score: 54.07 \t Average last 100 epoch score: 44.90\n",
      "Episode 29 (242 sec) \t Score: 57.02 \t Average last 100 epoch score: 45.31\n",
      "Episode 30 (246 sec) \t Score: 68.29 \t Average last 100 epoch score: 46.05\n",
      "Episode 31 (251 sec) \t Score: 71.13 \t Average last 100 epoch score: 46.83\n",
      "Episode 32 (257 sec) \t Score: 73.03 \t Average last 100 epoch score: 47.62\n",
      "Episode 33 (261 sec) \t Score: 66.40 \t Average last 100 epoch score: 48.18\n",
      "Episode 34 (266 sec) \t Score: 70.03 \t Average last 100 epoch score: 48.80\n",
      "Episode 35 (271 sec) \t Score: 69.86 \t Average last 100 epoch score: 49.39\n",
      "Episode 36 (279 sec) \t Score: 71.55 \t Average last 100 epoch score: 49.98\n",
      "Episode 37 (286 sec) \t Score: 71.91 \t Average last 100 epoch score: 50.56\n",
      "Episode 38 (290 sec) \t Score: 70.02 \t Average last 100 epoch score: 51.06\n",
      "Episode 39 (293 sec) \t Score: 69.04 \t Average last 100 epoch score: 51.51\n",
      "Episode 40 (298 sec) \t Score: 67.17 \t Average last 100 epoch score: 51.89\n",
      "Episode 41 (301 sec) \t Score: 67.70 \t Average last 100 epoch score: 52.27\n",
      "Episode 42 (308 sec) \t Score: 66.32 \t Average last 100 epoch score: 52.60\n",
      "Episode 43 (312 sec) \t Score: 66.39 \t Average last 100 epoch score: 52.91\n",
      "Episode 44 (319 sec) \t Score: 71.12 \t Average last 100 epoch score: 53.31\n",
      "Episode 45 (326 sec) \t Score: 74.27 \t Average last 100 epoch score: 53.77\n",
      "Episode 46 (332 sec) \t Score: 75.79 \t Average last 100 epoch score: 54.24\n",
      "Episode 47 (336 sec) \t Score: 74.64 \t Average last 100 epoch score: 54.66\n",
      "Episode 48 (341 sec) \t Score: 72.50 \t Average last 100 epoch score: 55.03\n",
      "Episode 49 (347 sec) \t Score: 75.26 \t Average last 100 epoch score: 55.43\n"
     ]
    },
    {
     "data": {
      "image/png": "[encoded data removed]",
      "text/plain": [
       "<matplotlib.figure.Figure at 0x7f0b580a80b8>"
      ]
     },
     "metadata": {
      "needs_background": "light"
     },
     "output_type": "display_data"
    }
   ],
   "source": [
    "#import workspace_utils.py\n",
    "from workspace_utils import active_session\n",
    "with active_session():\n",
    "    # do long-running work here\n",
    "    mean_scores, avg_score = ddpg()\n",
    "fig = plt.figure()\n",
    "ax = fig.add_subplot(111)\n",
    "plt.plot(np.arange(1, len(mean_scores)+1), mean_scores)\n",
    "plt.ylabel('Score')\n",
    "plt.xlabel('Episode #')\n",
    "plt.show()"
   ]
  },
  {
   "cell_type": "code",
   "execution_count": 8,
   "metadata": {},
   "outputs": [
    {
     "data": {
      "image/png": "[encoded data removed]",
      "text/plain": [
       "<matplotlib.figure.Figure at 0x7fa1e0eda668>"
      ]
     },
     "metadata": {
      "needs_background": "light"
     },
     "output_type": "display_data"
    }
   ],
   "source": [
    "fig = plt.figure()\n",
    "ax = fig.add_subplot(111)\n",
    "plt.plot(np.arange(1, len(mean_scores)+1), mean_scores)\n",
    "plt.ylabel('Score')\n",
    "plt.xlabel('Episode #')\n",
    "plt.show()"
   ]
  },
  {
   "cell_type": "code",
   "execution_count": null,
   "metadata": {},
   "outputs": [],
   "source": []
  }
 ],
 "metadata": {
  "kernelspec": {
   "display_name": "Python 3",
   "language": "python",
   "name": "python3"
  },
  "language_info": {
   "codemirror_mode": {
    "name": "ipython",
    "version": 3
   },
   "file_extension": ".py",
   "mimetype": "text/x-python",
   "name": "python",
   "nbconvert_exporter": "python",
   "pygments_lexer": "ipython3",
   "version": "3.6.3"
  }
 },
 "nbformat": 4,
 "nbformat_minor": 2
}
